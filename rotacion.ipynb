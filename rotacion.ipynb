{
 "cells": [
  {
   "cell_type": "code",
   "execution_count": null,
   "metadata": {},
   "outputs": [],
   "source": [
    "def rotar_matriz(matrix, p):\n",
    "    m = len(matrix)\n",
    "    n = len(matrix[0])\n",
    "\n",
    "    if not 2 <= m <= 100 or not 2 <= n <= 100 or not m % 2 == 0 or not n % 2 == 0:\n",
    "        print(\"Error: Dimensiones de matriz no válidas.\")\n",
    "        return\n",
    "\n",
    "    if not 1 <= p <= 10**7:\n",
    "        print(\"Error: Valor de p no válido.\")\n",
    "        return\n",
    "\n",
    "    rotaciones = p % 4\n",
    "\n",
    "    if rotaciones == 0:\n",
    "        print(\"Matriz después de 0 rotaciones:\")\n",
    "        for row in matrix:\n",
    "            print(\" \".join(map(str, row)))\n",
    "    elif rotaciones < 0:\n",
    "        rotaciones = -rotaciones\n",
    "        print(f\"Matriz después de rotación antihoraria {rotaciones} veces:\")\n",
    "        for _ in range(rotaciones):\n",
    "            matrix = list(zip(*matrix[::-1]))\n",
    "        for row in matrix:\n",
    "            print(\" \".join(map(str, row)))\n",
    "    else:\n",
    "        print(f\"Matriz después de rotación horaria {rotaciones} veces:\")\n",
    "        for _ in range(rotaciones):\n",
    "            matrix = list(zip(*matrix))[::-1]\n",
    "        for row in matrix:\n",
    "            print(\" \".join(map(str, row)))"
   ]
  },
  {
   "cell_type": "code",
   "execution_count": null,
   "metadata": {},
   "outputs": [],
   "source": [
    "matrix = [[1, 2, 3, 4], [5, 6, 7, 8], [9, 10, 11, 12], [13, 14, 15, 16]]\n",
    "p = 2\n",
    "rotar_matriz(matrix, p)"
   ]
  }
 ],
 "metadata": {
  "language_info": {
   "name": "python"
  },
  "orig_nbformat": 4
 },
 "nbformat": 4,
 "nbformat_minor": 2
}
